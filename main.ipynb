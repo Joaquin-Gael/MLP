{
 "cells": [
  {
   "cell_type": "code",
   "execution_count": 2,
   "metadata": {},
   "outputs": [],
   "source": [
    "import numpy as np\n",
    "import pandas as pd\n",
    "import matplotlib.pyplot as plt\n",
    "from sklearn.datasets import load_iris\n",
    "from sklearn.model_selection import train_test_split\n",
    "from sklearn.preprocessing import StandardScaler"
   ]
  },
  {
   "cell_type": "code",
   "execution_count": null,
   "metadata": {},
   "outputs": [],
   "source": [
    "class SimpleNeuralNetworkModel:\n",
    "    def __init__(self, input_size, hidden_size, output_size, learning_rate=0.1):\n",
    "        self.W1 = np.random.randn(input_size, hidden_size)\n",
    "        self.b1 = np.zeros((1, hidden_size))\n",
    "        self.W2 = np.random.rand(hidden_size, output_size)\n",
    "        self.b2 = np.zeros((1, output_size))\n",
    "        self.learning_rate = learning_rate\n",
    "\n",
    "    def sigmoid(self, x):\n",
    "        return 1 / (1 + np.exp(-x))\n",
    "    \n",
    "    def ReLu(self, x):\n",
    "        return np.maximum(0, x)\n",
    "    \n",
    "    def sigmoid_derivative(self, x):\n",
    "        return self.sigmoid(x) * (1 - self.sigmoid(x))\n",
    "    \n",
    "    def forward_propagation(self, x):\n",
    "        self.z1 = np.dot(x, self.W1) + self.b1\n",
    "        self.a1 = self.sigmoid(self.z1)\n",
    "        "
   ]
  },
  {
   "cell_type": "code",
   "execution_count": 16,
   "metadata": {},
   "outputs": [
    {
     "name": "stdout",
     "output_type": "stream",
     "text": [
      "[[-0.43175526  0.01905682 -0.82347681 -0.03037417 -1.36111442]\n",
      " [-0.51967033 -0.42379929  1.37603507 -0.74186663 -0.67332874]\n",
      " [ 0.25741542 -0.97814406 -1.16012642  1.50009201  0.39034376]\n",
      " [-0.93342257  2.43310176  1.69620139 -0.62705832  0.97770959]\n",
      " [ 0.93861008 -0.28319048  1.05843852 -1.31483947 -0.43248124]] \n",
      "\n",
      "[[0. 0. 0. 0. 0.]] \n",
      "\n",
      "[[ 0.76427024 -1.24227772 -0.92516471  0.15487836 -1.4032519 ]\n",
      " [ 0.76427024 -1.24227772 -0.92516471  0.15487836 -1.4032519 ]\n",
      " [ 0.76427024 -1.24227772 -0.92516471  0.15487836 -1.4032519 ]\n",
      " [ 0.76427024 -1.24227772 -0.92516471  0.15487836 -1.4032519 ]\n",
      " [ 0.76427024 -1.24227772 -0.92516471  0.15487836 -1.4032519 ]] \n",
      "\n",
      "[[0.68228013 0.22403976 0.28390672 0.53864238 0.19730059]\n",
      " [0.68228013 0.22403976 0.28390672 0.53864238 0.19730059]\n",
      " [0.68228013 0.22403976 0.28390672 0.53864238 0.19730059]\n",
      " [0.68228013 0.22403976 0.28390672 0.53864238 0.19730059]\n",
      " [0.68228013 0.22403976 0.28390672 0.53864238 0.19730059]] \n",
      "\n"
     ]
    }
   ],
   "source": [
    "def sigmoid(x):\n",
    "    return 1 / (1 + np.exp(-x))\n",
    "\n",
    "data = [\n",
    "    [1,0,1,0,1],\n",
    "    [1,0,1,0,1],\n",
    "    [1,0,1,0,1],\n",
    "    [1,0,1,0,1],\n",
    "    [1,0,1,0,1],\n",
    "]\n",
    "\n",
    "W1 = np.random.randn(5, 5)\n",
    "b1 = np.zeros((1, 5))\n",
    "z1 = np.dot(data, W1) + b1\n",
    "a1 = sigmoid(z1)\n",
    "print(W1,'\\n')\n",
    "print(b1,'\\n')\n",
    "print(z1,'\\n')\n",
    "print(a1,'\\n')"
   ]
  }
 ],
 "metadata": {
  "kernelspec": {
   "display_name": ".venv",
   "language": "python",
   "name": "python3"
  },
  "language_info": {
   "codemirror_mode": {
    "name": "ipython",
    "version": 3
   },
   "file_extension": ".py",
   "mimetype": "text/x-python",
   "name": "python",
   "nbconvert_exporter": "python",
   "pygments_lexer": "ipython3",
   "version": "3.11.8"
  }
 },
 "nbformat": 4,
 "nbformat_minor": 2
}
